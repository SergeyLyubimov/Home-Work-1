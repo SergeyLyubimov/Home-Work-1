{
 "cells": [
  {
   "cell_type": "markdown",
   "id": "9cf69ad9-d92f-4c3f-8ecf-c7f1f92953e1",
   "metadata": {},
   "source": [
    "# Задание 1\n",
    "Напишите код на Python в среде Jupyter Notebook для решения следующей задачи.\n",
    "\n",
    "Дана переменная, в которой хранится четырёхзначное число — год. Необходимо написать программу, которая выведет, является этот год високосным или обычным."
   ]
  },
  {
   "cell_type": "code",
   "execution_count": 3,
   "id": "6b41093e-4d40-4c21-b0b3-f91a89b8f749",
   "metadata": {},
   "outputs": [],
   "source": [
    "def leap_year(year):\n",
    "    if year % 400 == 0:\n",
    "        return True\n",
    "    if year % 4 == 0 and year % 100 != 0:\n",
    "        return True\n",
    "    return False"
   ]
  },
  {
   "cell_type": "code",
   "execution_count": 4,
   "id": "3cc8b3a5-fff9-4ce0-9e41-5a7c770de33c",
   "metadata": {},
   "outputs": [
    {
     "name": "stdout",
     "output_type": "stream",
     "text": [
      "Обычный год\n"
     ]
    }
   ],
   "source": [
    "year = 2013\n",
    "\n",
    "if leap_year(year):\n",
    "    print(\"Високосный год\")\n",
    "else:\n",
    "    print(\"Обычный год\")"
   ]
  },
  {
   "cell_type": "markdown",
   "id": "f8708b71-b37b-4c2c-b76c-043bb1147651",
   "metadata": {},
   "source": [
    "# Задание 2 (необязательное)\n",
    "Написать код на Python в среде Jupyter Notebook для решения следующей задачи.\n",
    "\n",
    "Дана переменная, в которой хранится шестизначное число — номер проездного билета. Напишите программу, которая будет определять, является ли этот билет счастливым. Билет считается счастливым, если сумма первых трёх цифр совпадает с суммой последних трёх цифр номера."
   ]
  },
  {
   "cell_type": "code",
   "execution_count": 6,
   "id": "87f69aa7-8209-48dc-876d-ff3a09e124d5",
   "metadata": {},
   "outputs": [],
   "source": [
    "def lucky_number(number):\n",
    "    first_half = [int(n) for n in str(number)[:3]]\n",
    "    last_half = [int(n) for n in str(number)[3:]]\n",
    "    if sum(first_half) == sum(last_half):\n",
    "        return True\n",
    "    return False"
   ]
  },
  {
   "cell_type": "code",
   "execution_count": 7,
   "id": "fcbcbbb1-1ca5-4919-809e-e568047e369c",
   "metadata": {},
   "outputs": [
    {
     "name": "stdout",
     "output_type": "stream",
     "text": [
      "Счастливый билет\n"
     ]
    }
   ],
   "source": [
    "number = 123321\n",
    "\n",
    "if lucky_number(number):\n",
    "    print(\"Счастливый билет\")\n",
    "else:\n",
    "    print(\"Несчастливый билет\")"
   ]
  }
 ],
 "metadata": {
  "kernelspec": {
   "display_name": "Python 3 (ipykernel)",
   "language": "python",
   "name": "python3"
  },
  "language_info": {
   "codemirror_mode": {
    "name": "ipython",
    "version": 3
   },
   "file_extension": ".py",
   "mimetype": "text/x-python",
   "name": "python",
   "nbconvert_exporter": "python",
   "pygments_lexer": "ipython3",
   "version": "3.9.16"
  }
 },
 "nbformat": 4,
 "nbformat_minor": 5
}
